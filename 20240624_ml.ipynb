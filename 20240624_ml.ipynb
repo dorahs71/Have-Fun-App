{
  "nbformat": 4,
  "nbformat_minor": 0,
  "metadata": {
    "colab": {
      "provenance": [],
      "authorship_tag": "ABX9TyOn2rDjUC0LByPYganDuOuv",
      "include_colab_link": true
    },
    "kernelspec": {
      "name": "python3",
      "display_name": "Python 3"
    },
    "language_info": {
      "name": "python"
    }
  },
  "cells": [
    {
      "cell_type": "markdown",
      "metadata": {
        "id": "view-in-github",
        "colab_type": "text"
      },
      "source": [
        "<a href=\"https://colab.research.google.com/github/dorahs71/Have-Fun-App/blob/main/20240624_ml.ipynb\" target=\"_parent\"><img src=\"https://colab.research.google.com/assets/colab-badge.svg\" alt=\"Open In Colab\"/></a>"
      ]
    },
    {
      "cell_type": "code",
      "execution_count": null,
      "metadata": {
        "id": "2EoPUUK5D6Dv"
      },
      "outputs": [],
      "source": []
    },
    {
      "cell_type": "markdown",
      "source": [
        "# markdown 語法\n",
        "\n",
        "# [Latex Math 語法](https://en.wikibooks.org/wiki/LaTeX/Mathematics)\n",
        "\n",
        "$ Area = \\frac{1}{2+x} π  r^2 $\n"
      ],
      "metadata": {
        "id": "nYeec0CBI8hf"
      }
    }
  ]
}